{
 "cells": [
  {
   "cell_type": "markdown",
   "metadata": {},
   "source": [
    "抓Yahoo finance API\n",
    "===\n",
    "\n",
    "參考：http://www.pythonforbeginners.com/api/python-api-and-json\n",
    "\n",
    "```url.read``` 可以將url讀出為字串\n",
    "\n",
    "```json.loads()``` 是讀取字串\n",
    "\n",
    "```json.load()``` 是讀取url"
   ]
  },
  {
   "cell_type": "code",
   "execution_count": 33,
   "metadata": {},
   "outputs": [
    {
     "name": "stdout",
     "output_type": "stream",
     "text": [
      "E. I. du Pont de Nemours and Company | DD | 84.54\n",
      "Apple Inc. | AAPL | 150.27\n",
      "Cisco Systems, Inc. | CSCO | 31.84\n",
      "Chevron Corporation | CVX | 103.25\n",
      "Verizon Communications Inc. | VZ | 44.23\n",
      "JPMorgan Chase &amp; Co. | JPM | 90.89\n",
      "Johnson &amp; Johnson | JNJ | 135.31\n",
      "Merck &amp; Co., Inc. | MRK | 62.63\n",
      "Pfizer Inc. | PFE | 33.48\n",
      "UnitedHealth Group Incorporated | UNH | 191.78\n",
      "Microsoft Corporation | MSFT | 73.79\n",
      "International Business Machines Corporation | IBM | 147.08\n",
      "Visa Inc. | V | 99.60\n",
      "United Technologies Corporation | UTX | 123.49\n",
      "The Travelers Companies, Inc. | TRV | 125.15\n",
      "General Electric Company | GE | 25.91\n",
      "The Coca-Cola Company | KO | 45.03\n",
      "NIKE, Inc. | NKE | 59.95\n",
      "The Goldman Sachs Group, Inc. | GS | 220.18\n",
      "3M Company | MMM | 211.16\n",
      "The Walt Disney Company | DIS | 107.09\n",
      "McDonald&apos;s Corporation | MCD | 153.92\n",
      "Intel Corporation | INTC | 34.73\n",
      "Caterpillar Inc. | CAT | 106.59\n",
      "The Procter &amp; Gamble Company | PG | 88.61\n",
      "Exxon Mobil Corporation | XOM | 80.12\n",
      "American Express Company | AXP | 85.59\n",
      "The Home Depot, Inc. | HD | 146.65\n",
      "The Boeing Company | BA | 212.14\n",
      "Wal-Mart Stores, Inc. | WMT | 76.15\n"
     ]
    }
   ],
   "source": [
    "from urllib.request import urlopen\n",
    "import json\n",
    "\n",
    "url = urlopen('http://query1.finance.yahoo.com/v7/finance/quote?formatted=true&crumb=azVqAvrYffI&lang=en-US&region=US&symbols=DD%2CAAPL%2CCSCO%2CCVX%2CVZ%2CJPM%2CJNJ%2CMRK%2CPFE%2CUNH%2CMSFT%2CIBM%2CV%2CUTX%2CTRV%2CGE%2CKO%2CNKE%2CGS%2CMMM%2CDIS%2CMCD%2CINTC%2CCAT%2CPG%2CXOM%2CAXP%2CHD%2CBA%2CWMT&fields=longName%2CregularMarketPrice%2CregularMarketChange%2CregularMarketChangePercent&corsDomain=finance.yahoo.com')\n",
    "rsp = json.load(url)\n",
    "for stock in rsp['quoteResponse']['result']:\n",
    "    print(stock['longName'],\"|\",stock['symbol'],\"|\",stock['regularMarketPrice']['fmt'])\n"
   ]
  },
  {
   "cell_type": "code",
   "execution_count": null,
   "metadata": {
    "collapsed": true
   },
   "outputs": [],
   "source": [
    "# 以下為NJ TA提供範例\n",
    "# -*- coding: utf-8 -*-\n",
    "\"\"\"\n",
    "Created on Sun Mar 26 22:25:40 2017\n",
    "\n",
    "@author: xiaoc\n",
    "\"\"\"\n",
    "from urllib.request import urlopen\n",
    "import json\n",
    "\n",
    "url = urlopen('http://query1.finance.yahoo.com/v7/finance/quote?formatted=true&crumb=azVqAvrYffI&lang=en-US&region=US&symbols=DD%2CAAPL%2CCSCO%2CCVX%2CVZ%2CJPM%2CJNJ%2CMRK%2CPFE%2CUNH%2CMSFT%2CIBM%2CV%2CUTX%2CTRV%2CGE%2CKO%2CNKE%2CGS%2CMMM%2CDIS%2CMCD%2CINTC%2CCAT%2CPG%2CXOM%2CAXP%2CHD%2CBA%2CWMT&fields=longName%2CregularMarketPrice%2CregularMarketChange%2CregularMarketChangePercent&corsDomain=finance.yahoo.com')\n",
    "resp = json.loads(url.read().decode('utf-8'))\n",
    "for stock in resp['quoteResponse']['result']:\n",
    "    print(stock['symbol'], stock['longName'], stock['regularMarketPrice']['fmt'])"
   ]
  },
  {
   "cell_type": "markdown",
   "metadata": {},
   "source": [
    "建立Main Window\n",
    "==="
   ]
  },
  {
   "cell_type": "markdown",
   "metadata": {},
   "source": [
    "### Add(self, item, proportion=0, flag=0, border=0, userData=None)\n",
    "\n",
    "> **proportion**- =0 - Although the meaning of this parameter is undefined in wx.Sizer, it is used in wx.BoxSizer to indicate if a child of a sizer can change its size in the main orientation of the wx.BoxSizer - where 0 stands for not changeable and a value of more than zero is interpreted relative (a proportion of the total) to the value of other children of the same wx.BoxSizer. For example, you might have a horizontal wx.BoxSizer with three children, two of which are supposed to change their size with the sizer. Then the two stretchable windows should each be given proportion value of 1 to make them grow and shrink equally with the sizer's horizontal dimension. But if one of them had a proportion value of 2 then it would get a double share of the space available after the fixed size items are positioned.\n",
    "\n",
    "\n",
    "> **flag**- wx.ALL - This parameter can be used to set a number of flags which can be combined using the binary OR operator |. Two main behaviours are defined using these flags. One is the border around a window: the border parameter determines the border width whereas the flags given here determine which side(s) of the item that the border will be added. The other flags determine how the sizer item behaves when the space allotted to the sizer changes, and is somewhat dependent on the specific kind of sizer used.\n",
    "\n",
    "\n",
    "> **border**- =5 - Determines the border width, if the flag parameter is set to include any border flag.\n",
    "\n",
    "more:https://wxpython.org/docs/api/wx.Sizer-class.html\n",
    "\n",
    "---\n",
    "\n",
    "Close app\n",
    "===\n",
    "https://stackoverflow.com/questions/10833163/how-to-kill-a-wxpython-application-when-user-clicks-a-frames-close/10837130#10837130"
   ]
  },
  {
   "cell_type": "code",
   "execution_count": 34,
   "metadata": {},
   "outputs": [
    {
     "ename": "SystemExit",
     "evalue": "This program needs access to the screen. Please run with a\nFramework build of python, and only when you are logged in\non the main display of your Mac.",
     "output_type": "error",
     "traceback": [
      "An exception has occurred, use %tb to see the full traceback.\n",
      "\u001b[0;31mSystemExit\u001b[0m\u001b[0;31m:\u001b[0m This program needs access to the screen. Please run with a\nFramework build of python, and only when you are logged in\non the main display of your Mac.\n"
     ]
    },
    {
     "name": "stderr",
     "output_type": "stream",
     "text": [
      "/Users/ben/anaconda3/lib/python3.6/site-packages/IPython/core/interactiveshell.py:2889: UserWarning: To exit: use 'exit', 'quit', or Ctrl-D.\n",
      "  warn(\"To exit: use 'exit', 'quit', or Ctrl-D.\", stacklevel=1)\n"
     ]
    }
   ],
   "source": [
    "import wx\n",
    "\n",
    "########################################################################\n",
    "class MyFrame(wx.Frame):\n",
    "    \"\"\"\"\"\"\n",
    "\n",
    "    #----------------------------------------------------------------------\n",
    "    def __init__(self):\n",
    "        \"\"\"Constructor\"\"\"\n",
    "        wx.Frame.__init__(self, None, title=\"Close Me\")\n",
    "        panel = wx.Panel(self)\n",
    "\n",
    "        closeBtn = wx.Button(panel, label=\"Close\")\n",
    "        closeBtn.Bind(wx.EVT_BUTTON, self.onClose)\n",
    "\n",
    "    #----------------------------------------------------------------------\n",
    "    def onClose(self, event):\n",
    "        \"\"\"\"\"\"\n",
    "        self.Close()\n",
    "\n",
    "if __name__ == \"__main__\":\n",
    "    app = wx.App(False)\n",
    "    frame = MyFrame()\n",
    "    frame.Show()\n",
    "    app.MainLoop()"
   ]
  },
  {
   "cell_type": "markdown",
   "metadata": {},
   "source": [
    "wxPython - ListCtrl\n",
    "===\n",
    "https://www.blog.pythonlibrary.org/2011/01/04/wxpython-wx-listctrl-tips-and-tricks/\n",
    "\n",
    "wxPython - Grid\n",
    "===\n",
    "https://www.blog.pythonlibrary.org/2010/03/18/wxpython-an-introduction-to-grids/"
   ]
  },
  {
   "cell_type": "markdown",
   "metadata": {},
   "source": [
    "Main Window V.1, 20170722\n",
    "===\n",
    "Active anaconda first\n",
    "\n",
    "```\n",
    "# To check the enviromation, i.g. output root....\n",
    "$ conda info -e \n",
    "\n",
    "# activate this enviromation\n",
    "$ source activate root\n",
    "```\n",
    "\n",
    "Git workflow\n",
    "\n",
    "```\n",
    "$ git remote add origin git@github.com:bofish/python-uni-NJ.git\n",
    "$ git add -A\n",
    "$ git log\n",
    "$ git commit -m \"some messenge\"\n",
    "$ git push origin master\n",
    "```"
   ]
  },
  {
   "cell_type": "code",
   "execution_count": 35,
   "metadata": {},
   "outputs": [
    {
     "ename": "SystemExit",
     "evalue": "This program needs access to the screen. Please run with a\nFramework build of python, and only when you are logged in\non the main display of your Mac.",
     "output_type": "error",
     "traceback": [
      "An exception has occurred, use %tb to see the full traceback.\n",
      "\u001b[0;31mSystemExit\u001b[0m\u001b[0;31m:\u001b[0m This program needs access to the screen. Please run with a\nFramework build of python, and only when you are logged in\non the main display of your Mac.\n"
     ]
    },
    {
     "name": "stderr",
     "output_type": "stream",
     "text": [
      "/Users/ben/anaconda3/lib/python3.6/site-packages/IPython/core/interactiveshell.py:2889: UserWarning: To exit: use 'exit', 'quit', or Ctrl-D.\n",
      "  warn(\"To exit: use 'exit', 'quit', or Ctrl-D.\", stacklevel=1)\n"
     ]
    }
   ],
   "source": [
    "import wx\n",
    "from urllib.request import urlopen\n",
    "import json\n",
    "\n",
    "# crate main view\n",
    "class mainFrame(wx.Frame):\n",
    "\tdef __init__(self,superior):\n",
    "\t\twx.Frame.__init__(self, parent=superior, title='Dow Jones Stock')\n",
    "\t\tself.panel = wx.Panel(self)\n",
    "\n",
    "\t\tsearch_label = wx.StaticText(self.panel, label=\"Stock Code:\")\n",
    "\t\tsearch_input = wx.TextCtrl(self.panel)\n",
    "\t\t\n",
    "\t\tself.stockls = wx.ListCtrl(self.panel, size=(-1,100), style=wx.LC_REPORT|wx.BORDER_SUNKEN)\n",
    "\t\tself.stockls.InsertColumn(0, 'Symbol')\n",
    "\t\tself.stockls.InsertColumn(1, 'Name')\n",
    "\t\tself.stockls.InsertColumn(2, 'FTM')\n",
    "\n",
    "\n",
    "\t\tquit_btn = wx.Button(self.panel, label='Quit')\n",
    "\t\tre_btn = wx.Button(self.panel, label='Refresh')\n",
    "\t\tself.Bind(wx.EVT_BUTTON, self.Quit, quit_btn)\n",
    "\t\tself.Bind(wx.EVT_BUTTON, self.Refresh, re_btn)\n",
    "\n",
    "\n",
    "\t\ttopSizer = wx.BoxSizer(wx.VERTICAL)\n",
    "\t\tsearchSizer = wx.BoxSizer(wx.HORIZONTAL)\n",
    "\t\ttableSizer = wx.BoxSizer(wx.HORIZONTAL)\n",
    "\t\tbtnSizer = wx.BoxSizer(wx.HORIZONTAL)\n",
    "\n",
    "\t\tsearchSizer.Add(search_label, 0, wx.ALL, 5)\n",
    "\t\tsearchSizer.Add(search_input, 0, wx.ALL|wx.EXPAND, 5)\n",
    "\n",
    "\t\ttableSizer.Add(self.stockls, 1, wx.EXPAND)\n",
    "\n",
    "\t\tbtnSizer.Add(quit_btn, 0, wx.ALL, 5)\n",
    "\t\tbtnSizer.Add(re_btn, 0, wx.ALL, 5)\n",
    "\n",
    "\t\ttopSizer.Add(searchSizer, 0, wx.ALL|wx.EXPAND, 5)\n",
    "\t\ttopSizer.Add(tableSizer, 0, wx.ALL|wx.EXPAND, 5)\n",
    "\t\ttopSizer.Add(btnSizer, 0, wx.ALL|wx.EXPAND, 5)\n",
    "\n",
    "\t\tself.panel.SetSizer(topSizer)\n",
    "\t\ttopSizer.Fit(self)\n",
    "\n",
    "\n",
    "\tdef Quit(self, event):\n",
    "\t\tself.Close()\n",
    "\n",
    "\tdef Refresh(self, event):\n",
    "\t\turl = urlopen('http://query1.finance.yahoo.com/v7/finance/quote?formatted=true&crumb=azVqAvrYffI&lang=en-US&region=US&symbols=DD%2CAAPL%2CCSCO%2CCVX%2CVZ%2CJPM%2CJNJ%2CMRK%2CPFE%2CUNH%2CMSFT%2CIBM%2CV%2CUTX%2CTRV%2CGE%2CKO%2CNKE%2CGS%2CMMM%2CDIS%2CMCD%2CINTC%2CCAT%2CPG%2CXOM%2CAXP%2CHD%2CBA%2CWMT&fields=longName%2CregularMarketPrice%2CregularMarketChange%2CregularMarketChangePercent&corsDomain=finance.yahoo.com')\n",
    "\t\tresp = json.load(url)\n",
    "\n",
    "\t\tfor index, stock in enumerate(resp['quoteResponse']['result']):\n",
    "\t\t\tself.stockls.InsertItem(index, stock['symbol'])\n",
    "\t\t\tself.stockls.SetItem(index, 1, stock['longName'])\n",
    "\t\t\tself.stockls.SetItem(index, 2, stock['regularMarketPrice']['fmt'])\n",
    "\n",
    "if __name__ == '__main__':\n",
    "\tapp = wx.App()\n",
    "\tframe = mainFrame(None)\n",
    "\tframe.Refresh(None)\n",
    "\tframe.Show()\n",
    "\tapp.MainLoop()\n",
    "\n",
    "\n",
    "\t\t"
   ]
  },
  {
   "cell_type": "markdown",
   "metadata": {
    "collapsed": true
   },
   "source": [
    "抓 Alpha Vantage的API\n",
    "===\n"
   ]
  },
  {
   "cell_type": "code",
   "execution_count": 2,
   "metadata": {},
   "outputs": [
    {
     "name": "stdout",
     "output_type": "stream",
     "text": [
      "2017-07-21 84.8300\n",
      "2017-07-20 85.4600\n",
      "2017-07-19 84.2300\n",
      "2017-07-18 84.3800\n",
      "2017-07-17 84.7800\n",
      "2017-07-14 83.9800\n",
      "2017-07-13 84.6400\n",
      "2017-07-12 83.3500\n",
      "2017-07-11 82.5800\n",
      "2017-07-10 81.8000\n",
      "2017-07-07 81.7700\n",
      "2017-07-06 81.0400\n",
      "2017-07-05 82.0800\n",
      "2017-07-03 81.2700\n",
      "2017-06-30 80.5200\n",
      "2017-06-29 81.1600\n",
      "2017-06-28 81.4100\n",
      "2017-06-27 81.3000\n",
      "2017-06-26 81.2200\n",
      "2017-06-23 81.2000\n",
      "2017-06-22 81.0000\n",
      "2017-06-21 83.4400\n",
      "2017-06-20 83.2000\n",
      "2017-06-19 82.6600\n",
      "2017-06-16 82.6200\n",
      "2017-06-15 82.7200\n",
      "2017-06-14 83.7200\n",
      "2017-06-13 82.1400\n",
      "2017-06-12 82.7400\n",
      "2017-06-09 81.7500\n",
      "2017-06-08 81.3500\n",
      "2017-06-07 81.2900\n",
      "2017-06-06 80.4500\n",
      "2017-06-05 80.2500\n",
      "2017-06-02 80.0900\n",
      "2017-06-01 78.7800\n",
      "2017-05-31 77.7800\n",
      "2017-05-30 77.7200\n",
      "2017-05-26 77.3100\n",
      "2017-05-25 78.7600\n",
      "2017-05-24 77.5000\n",
      "2017-05-23 77.5700\n",
      "2017-05-22 78.1200\n",
      "2017-05-19 77.2100\n",
      "2017-05-18 76.3000\n",
      "2017-05-17 78.5400\n",
      "2017-05-16 79.7000\n",
      "2017-05-15 79.6000\n",
      "2017-05-12 78.7900\n",
      "2017-05-11 78.7100\n",
      "2017-05-10 79.3900\n",
      "2017-05-09 80.1700\n",
      "2017-05-08 80.9900\n",
      "2017-05-05 79.1600\n",
      "2017-05-04 79.3000\n",
      "2017-05-03 79.4600\n",
      "2017-05-02 79.7600\n",
      "2017-05-01 79.9100\n",
      "2017-04-28 80.2000\n",
      "2017-04-27 81.5900\n",
      "2017-04-26 82.0100\n",
      "2017-04-25 81.3200\n",
      "2017-04-24 79.4200\n",
      "2017-04-21 78.4100\n",
      "2017-04-20 78.0800\n",
      "2017-04-19 78.2100\n",
      "2017-04-18 77.7100\n",
      "2017-04-17 77.7200\n",
      "2017-04-13 78.1700\n",
      "2017-04-12 79.0100\n",
      "2017-04-11 79.6100\n",
      "2017-04-10 79.8900\n",
      "2017-04-07 80.2500\n",
      "2017-04-06 80.5900\n",
      "2017-04-05 80.0200\n",
      "2017-04-04 79.5900\n",
      "2017-04-03 80.4400\n",
      "2017-03-31 81.4000\n",
      "2017-03-30 81.9000\n",
      "2017-03-29 81.6000\n",
      "2017-03-28 80.3900\n",
      "2017-03-27 79.3500\n",
      "2017-03-24 80.4000\n",
      "2017-03-23 78.9400\n",
      "2017-03-22 79.6800\n",
      "2017-03-21 81.6000\n",
      "2017-03-20 81.1400\n",
      "2017-03-17 81.4200\n",
      "2017-03-16 81.0700\n",
      "2017-03-15 81.0200\n",
      "2017-03-14 80.7800\n",
      "2017-03-13 81.0000\n",
      "2017-03-10 80.7300\n",
      "2017-03-09 79.8700\n",
      "2017-03-08 79.6000\n",
      "2017-03-07 79.8100\n",
      "2017-03-06 79.6800\n",
      "2017-03-03 79.7300\n",
      "2017-03-02 80.0000\n",
      "2017-03-01 79.5100\n"
     ]
    }
   ],
   "source": [
    "import wx\n",
    "from urllib.request import urlopen\n",
    "import json\n",
    "\n",
    "BASE = 'https://www.alphavantage.co/query?function=TIME_SERIES_DAILY_ADJUSTED&'\n",
    "OP_SIZE = 'outputsize=' # full or compact\n",
    "SYMBOL = '&symbol=' # Stock symbol: DD,KO...\n",
    "API_KEY = '&apikey=GT0WUDQ16HQWNWVA'\n",
    "\n",
    "\n",
    "stockURL = urlopen(BASE + OP_SIZE + 'compact' + SYMBOL + 'DD' + API_KEY)\n",
    "resp = json.load(stockURL)\n",
    "\n",
    "for stock in resp['Time Series (Daily)'].items():\n",
    "\tprint(stock[0], stock[1]['1. open'])"
   ]
  },
  {
   "cell_type": "markdown",
   "metadata": {
    "collapsed": true
   },
   "source": [
    "Try pandas's Dataframe\n",
    "===\n",
    "- Dataframe is a labelled 2-D numpy array\n",
    "- Series is an indexed 1-D numpy array"
   ]
  },
  {
   "cell_type": "code",
   "execution_count": 8,
   "metadata": {},
   "outputs": [
    {
     "name": "stdout",
     "output_type": "stream",
     "text": [
      "      1     2\n",
      "A  1221  1221\n",
      "B  2121  2112\n",
      "C  2122  1221\n"
     ]
    }
   ],
   "source": [
    "import numpy as np\n",
    "import pandas as pd\n",
    "\n",
    "data = np.array([['','1','2'], ['A',1221,1221], ['B',2121,2112], ['C',2122,1221]])\n",
    "df = pd.DataFrame(data=data[1:,1:], index=data[1:,0], columns=data[0,1:])\n",
    "print(df)\n"
   ]
  },
  {
   "cell_type": "markdown",
   "metadata": {},
   "source": [
    "Grab stock data and store in a dataframe\n",
    "===\n"
   ]
  },
  {
   "cell_type": "code",
   "execution_count": 47,
   "metadata": {},
   "outputs": [
    {
     "data": {
      "text/plain": [
       "['2017-07-01', '2017-06-21']"
      ]
     },
     "execution_count": 47,
     "metadata": {},
     "output_type": "execute_result"
    },
    {
     "data": {
      "text/html": [
       "<div>\n",
       "<style>\n",
       "    .dataframe thead tr:only-child th {\n",
       "        text-align: right;\n",
       "    }\n",
       "\n",
       "    .dataframe thead th {\n",
       "        text-align: left;\n",
       "    }\n",
       "\n",
       "    .dataframe tbody tr th {\n",
       "        vertical-align: top;\n",
       "    }\n",
       "</style>\n",
       "<table border=\"1\" class=\"dataframe\">\n",
       "  <thead>\n",
       "    <tr style=\"text-align: right;\">\n",
       "      <th></th>\n",
       "      <th>Open</th>\n",
       "      <th>Close</th>\n",
       "      <th>High</th>\n",
       "      <th>Low</th>\n",
       "      <th>Volume</th>\n",
       "    </tr>\n",
       "  </thead>\n",
       "  <tbody>\n",
       "    <tr>\n",
       "      <th>2017-06-30</th>\n",
       "      <td>80.52</td>\n",
       "      <td>80.71</td>\n",
       "      <td>81.19</td>\n",
       "      <td>80.14</td>\n",
       "      <td>2336989.0</td>\n",
       "    </tr>\n",
       "    <tr>\n",
       "      <th>2017-06-29</th>\n",
       "      <td>81.16</td>\n",
       "      <td>80.46</td>\n",
       "      <td>82.16</td>\n",
       "      <td>80.33</td>\n",
       "      <td>2453204.0</td>\n",
       "    </tr>\n",
       "    <tr>\n",
       "      <th>2017-06-28</th>\n",
       "      <td>81.41</td>\n",
       "      <td>81.28</td>\n",
       "      <td>81.62</td>\n",
       "      <td>81.08</td>\n",
       "      <td>1164881.0</td>\n",
       "    </tr>\n",
       "    <tr>\n",
       "      <th>2017-06-27</th>\n",
       "      <td>81.30</td>\n",
       "      <td>80.69</td>\n",
       "      <td>81.30</td>\n",
       "      <td>80.53</td>\n",
       "      <td>1532246.0</td>\n",
       "    </tr>\n",
       "    <tr>\n",
       "      <th>2017-06-26</th>\n",
       "      <td>81.22</td>\n",
       "      <td>81.16</td>\n",
       "      <td>81.64</td>\n",
       "      <td>80.72</td>\n",
       "      <td>1580072.0</td>\n",
       "    </tr>\n",
       "    <tr>\n",
       "      <th>2017-06-23</th>\n",
       "      <td>81.20</td>\n",
       "      <td>80.99</td>\n",
       "      <td>81.56</td>\n",
       "      <td>80.92</td>\n",
       "      <td>1833020.0</td>\n",
       "    </tr>\n",
       "    <tr>\n",
       "      <th>2017-06-22</th>\n",
       "      <td>81.00</td>\n",
       "      <td>81.34</td>\n",
       "      <td>81.68</td>\n",
       "      <td>80.98</td>\n",
       "      <td>1528484.0</td>\n",
       "    </tr>\n",
       "    <tr>\n",
       "      <th>2017-06-21</th>\n",
       "      <td>83.44</td>\n",
       "      <td>80.92</td>\n",
       "      <td>83.44</td>\n",
       "      <td>80.85</td>\n",
       "      <td>2583975.0</td>\n",
       "    </tr>\n",
       "  </tbody>\n",
       "</table>\n",
       "</div>"
      ],
      "text/plain": [
       "             Open  Close   High    Low     Volume\n",
       "2017-06-30  80.52  80.71  81.19  80.14  2336989.0\n",
       "2017-06-29  81.16  80.46  82.16  80.33  2453204.0\n",
       "2017-06-28  81.41  81.28  81.62  81.08  1164881.0\n",
       "2017-06-27  81.30  80.69  81.30  80.53  1532246.0\n",
       "2017-06-26  81.22  81.16  81.64  80.72  1580072.0\n",
       "2017-06-23  81.20  80.99  81.56  80.92  1833020.0\n",
       "2017-06-22  81.00  81.34  81.68  80.98  1528484.0\n",
       "2017-06-21  83.44  80.92  83.44  80.85  2583975.0"
      ]
     },
     "execution_count": 47,
     "metadata": {},
     "output_type": "execute_result"
    },
    {
     "data": {
      "text/plain": [
       "<matplotlib.axes._subplots.AxesSubplot at 0x11db78438>"
      ]
     },
     "execution_count": 47,
     "metadata": {},
     "output_type": "execute_result"
    },
    {
     "data": {
      "image/png": "[encoded data removed]",
      "text/plain": [
       "<matplotlib.figure.Figure at 0x11db78cc0>"
      ]
     },
     "metadata": {},
     "output_type": "display_data"
    }
   ],
   "source": [
    "import numpy as np\n",
    "import pandas as pd\n",
    "import matplotlib.pyplot as plt\n",
    "from urllib.request import urlopen\n",
    "import json\n",
    "import API_URL as api\n",
    "\n",
    "BASE = 'https://www.alphavantage.co/query?function=TIME_SERIES_DAILY_ADJUSTED&'\n",
    "OP_SIZE = 'outputsize=' # full or compact\n",
    "SYMBOL = '&symbol=' # Stock symbol: DD,KO...\n",
    "API_KEY = '&apikey=GT0WUDQ16HQWNWVA'\n",
    "\n",
    "stoSym = 'DD'\n",
    "dates = ['2017-07-01','2017-06-21']\n",
    "mask = np.array([True, True, False, False, True])\n",
    "\n",
    "stockURL = urlopen(BASE + OP_SIZE + 'compact' + SYMBOL + stoSym + API_KEY)\n",
    "resp = json.load(stockURL)\n",
    "emptyArr = np.array([[0,0,0,0,0]])\n",
    "dateArr = np.array([])\n",
    "indexArr = np.array(['Open', 'Close', 'High', 'Low', 'Volume'])\n",
    "for stock in resp['Time Series (Daily)'].items():\n",
    "    emptyArr = np.append(emptyArr, [[float(stock[1]['1. open']), float(stock[1]['4. close']), float(stock[1]['2. high']), float(stock[1]['3. low']), float(stock[1]['6. volume'])]],axis=0)\n",
    "    dateArr = np.append(dateArr, stock[0])\n",
    "df = pd.DataFrame(data=emptyArr[1:,0:], index=dateArr, columns=indexArr)\n",
    "\n",
    "df_op = df.loc[dates[0]:dates[1]]\n",
    "df_op.plot(y=indexArr[mask])\n",
    "plt.show()"
   ]
  },
  {
   "cell_type": "code",
   "execution_count": null,
   "metadata": {
    "collapsed": true
   },
   "outputs": [],
   "source": []
  },
  {
   "cell_type": "code",
   "execution_count": 29,
   "metadata": {},
   "outputs": [
    {
     "data": {
      "text/plain": [
       "array([[0, 0, 0, 0, 0],\n",
       "       [2, 3, 4, 5, 6]])"
      ]
     },
     "execution_count": 29,
     "metadata": {},
     "output_type": "execute_result"
    }
   ],
   "source": [
    "import numpy as np\n",
    "\n",
    "a = np.array([[0,0,0,0,0]])\n",
    "np.append(a,[[2,3,4,5,6]],axis=0)"
   ]
  },
  {
   "cell_type": "code",
   "execution_count": 60,
   "metadata": {},
   "outputs": [
    {
     "ename": "NameError",
     "evalue": "name 'timedelta' is not defined",
     "output_type": "error",
     "traceback": [
      "\u001b[0;31m---------------------------------------------------------------------------\u001b[0m",
      "\u001b[0;31mNameError\u001b[0m                                 Traceback (most recent call last)",
      "\u001b[0;32m<ipython-input-60-ba1dfa957ec8>\u001b[0m in \u001b[0;36m<module>\u001b[0;34m()\u001b[0m\n\u001b[1;32m      2\u001b[0m \u001b[0;34m\u001b[0m\u001b[0m\n\u001b[1;32m      3\u001b[0m \u001b[0ma\u001b[0m \u001b[0;34m=\u001b[0m \u001b[0mdate\u001b[0m\u001b[0;34m.\u001b[0m\u001b[0mtoday\u001b[0m\u001b[0;34m(\u001b[0m\u001b[0;34m)\u001b[0m\u001b[0;34m\u001b[0m\u001b[0m\n\u001b[0;32m----> 4\u001b[0;31m \u001b[0mEndDate\u001b[0m \u001b[0;34m=\u001b[0m \u001b[0mdate\u001b[0m\u001b[0;34m.\u001b[0m\u001b[0mtoday\u001b[0m\u001b[0;34m(\u001b[0m\u001b[0;34m)\u001b[0m \u001b[0;34m+\u001b[0m \u001b[0mtimedelta\u001b[0m\u001b[0;34m(\u001b[0m\u001b[0mdays\u001b[0m\u001b[0;34m=\u001b[0m\u001b[0;36m10\u001b[0m\u001b[0;34m)\u001b[0m\u001b[0;34m\u001b[0m\u001b[0m\n\u001b[0m\u001b[1;32m      5\u001b[0m \u001b[0mEndDate\u001b[0m\u001b[0;34m\u001b[0m\u001b[0m\n\u001b[1;32m      6\u001b[0m \u001b[0mstr\u001b[0m\u001b[0;34m(\u001b[0m\u001b[0ma\u001b[0m\u001b[0;34m)\u001b[0m\u001b[0;34m\u001b[0m\u001b[0m\n",
      "\u001b[0;31mNameError\u001b[0m: name 'timedelta' is not defined"
     ]
    }
   ],
   "source": [
    "from datetime import date\n",
    "from datetime import timedelta\n",
    "\n",
    "a = date.today()\n",
    "EndDate = date.today() + timedelta(days=10)\n",
    "EndDate\n",
    "str(a)"
   ]
  },
  {
   "cell_type": "code",
   "execution_count": 59,
   "metadata": {},
   "outputs": [
    {
     "data": {
      "text/plain": [
       "DatetimeIndex(['2017-07-01', '2017-07-02', '2017-07-03', '2017-07-04',\n",
       "               '2017-07-05', '2017-07-06', '2017-07-07'],\n",
       "              dtype='datetime64[ns]', freq='D')"
      ]
     },
     "execution_count": 59,
     "metadata": {},
     "output_type": "execute_result"
    }
   ],
   "source": [
    "import pandas as pd\n",
    "\n",
    "dates = pd.date_range('20170701',periods=7)\n",
    "dates"
   ]
  },
  {
   "cell_type": "code",
   "execution_count": null,
   "metadata": {
    "collapsed": true
   },
   "outputs": [],
   "source": []
  }
 ],
 "metadata": {
  "kernelspec": {
   "display_name": "Python 3",
   "language": "python",
   "name": "python3"
  },
  "language_info": {
   "codemirror_mode": {
    "name": "ipython",
    "version": 3
   },
   "file_extension": ".py",
   "mimetype": "text/x-python",
   "name": "python",
   "nbconvert_exporter": "python",
   "pygments_lexer": "ipython3",
   "version": "3.6.1"
  }
 },
 "nbformat": 4,
 "nbformat_minor": 2
}
