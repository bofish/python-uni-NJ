{
 "cells": [
  {
   "cell_type": "markdown",
   "metadata": {},
   "source": [
    "抓Yahoo finance API\n",
    "===\n",
    "\n",
    "參考：http://www.pythonforbeginners.com/api/python-api-and-json\n",
    "\n",
    "```url.read``` 可以將url讀出為字串\n",
    "\n",
    "```json.loads()``` 是讀取字串\n",
    "\n",
    "```json.load()``` 是讀取url"
   ]
  },
  {
   "cell_type": "code",
   "execution_count": 33,
   "metadata": {},
   "outputs": [
    {
     "name": "stdout",
     "output_type": "stream",
     "text": [
      "E. I. du Pont de Nemours and Company | DD | 84.54\n",
      "Apple Inc. | AAPL | 150.27\n",
      "Cisco Systems, Inc. | CSCO | 31.84\n",
      "Chevron Corporation | CVX | 103.25\n",
      "Verizon Communications Inc. | VZ | 44.23\n",
      "JPMorgan Chase &amp; Co. | JPM | 90.89\n",
      "Johnson &amp; Johnson | JNJ | 135.31\n",
      "Merck &amp; Co., Inc. | MRK | 62.63\n",
      "Pfizer Inc. | PFE | 33.48\n",
      "UnitedHealth Group Incorporated | UNH | 191.78\n",
      "Microsoft Corporation | MSFT | 73.79\n",
      "International Business Machines Corporation | IBM | 147.08\n",
      "Visa Inc. | V | 99.60\n",
      "United Technologies Corporation | UTX | 123.49\n",
      "The Travelers Companies, Inc. | TRV | 125.15\n",
      "General Electric Company | GE | 25.91\n",
      "The Coca-Cola Company | KO | 45.03\n",
      "NIKE, Inc. | NKE | 59.95\n",
      "The Goldman Sachs Group, Inc. | GS | 220.18\n",
      "3M Company | MMM | 211.16\n",
      "The Walt Disney Company | DIS | 107.09\n",
      "McDonald&apos;s Corporation | MCD | 153.92\n",
      "Intel Corporation | INTC | 34.73\n",
      "Caterpillar Inc. | CAT | 106.59\n",
      "The Procter &amp; Gamble Company | PG | 88.61\n",
      "Exxon Mobil Corporation | XOM | 80.12\n",
      "American Express Company | AXP | 85.59\n",
      "The Home Depot, Inc. | HD | 146.65\n",
      "The Boeing Company | BA | 212.14\n",
      "Wal-Mart Stores, Inc. | WMT | 76.15\n"
     ]
    }
   ],
   "source": [
    "from urllib.request import urlopen\n",
    "import json\n",
    "\n",
    "url = urlopen('http://query1.finance.yahoo.com/v7/finance/quote?formatted=true&crumb=azVqAvrYffI&lang=en-US&region=US&symbols=DD%2CAAPL%2CCSCO%2CCVX%2CVZ%2CJPM%2CJNJ%2CMRK%2CPFE%2CUNH%2CMSFT%2CIBM%2CV%2CUTX%2CTRV%2CGE%2CKO%2CNKE%2CGS%2CMMM%2CDIS%2CMCD%2CINTC%2CCAT%2CPG%2CXOM%2CAXP%2CHD%2CBA%2CWMT&fields=longName%2CregularMarketPrice%2CregularMarketChange%2CregularMarketChangePercent&corsDomain=finance.yahoo.com')\n",
    "rsp = json.load(url)\n",
    "for stock in rsp['quoteResponse']['result']:\n",
    "    print(stock['longName'],\"|\",stock['symbol'],\"|\",stock['regularMarketPrice']['fmt'])\n"
   ]
  },
  {
   "cell_type": "code",
   "execution_count": null,
   "metadata": {
    "collapsed": true
   },
   "outputs": [],
   "source": [
    "# 以下為NJ TA提供範例\n",
    "# -*- coding: utf-8 -*-\n",
    "\"\"\"\n",
    "Created on Sun Mar 26 22:25:40 2017\n",
    "\n",
    "@author: xiaoc\n",
    "\"\"\"\n",
    "from urllib.request import urlopen\n",
    "import json\n",
    "\n",
    "url = urlopen('http://query1.finance.yahoo.com/v7/finance/quote?formatted=true&crumb=azVqAvrYffI&lang=en-US&region=US&symbols=DD%2CAAPL%2CCSCO%2CCVX%2CVZ%2CJPM%2CJNJ%2CMRK%2CPFE%2CUNH%2CMSFT%2CIBM%2CV%2CUTX%2CTRV%2CGE%2CKO%2CNKE%2CGS%2CMMM%2CDIS%2CMCD%2CINTC%2CCAT%2CPG%2CXOM%2CAXP%2CHD%2CBA%2CWMT&fields=longName%2CregularMarketPrice%2CregularMarketChange%2CregularMarketChangePercent&corsDomain=finance.yahoo.com')\n",
    "resp = json.loads(url.read().decode('utf-8'))\n",
    "for stock in resp['quoteResponse']['result']:\n",
    "    print(stock['symbol'], stock['longName'], stock['regularMarketPrice']['fmt'])"
   ]
  },
  {
   "cell_type": "markdown",
   "metadata": {},
   "source": [
    "建立Main Window\n",
    "==="
   ]
  },
  {
   "cell_type": "markdown",
   "metadata": {},
   "source": [
    "### Add(self, item, proportion=0, flag=0, border=0, userData=None)\n",
    "\n",
    "> **proportion**- =0 - Although the meaning of this parameter is undefined in wx.Sizer, it is used in wx.BoxSizer to indicate if a child of a sizer can change its size in the main orientation of the wx.BoxSizer - where 0 stands for not changeable and a value of more than zero is interpreted relative (a proportion of the total) to the value of other children of the same wx.BoxSizer. For example, you might have a horizontal wx.BoxSizer with three children, two of which are supposed to change their size with the sizer. Then the two stretchable windows should each be given proportion value of 1 to make them grow and shrink equally with the sizer's horizontal dimension. But if one of them had a proportion value of 2 then it would get a double share of the space available after the fixed size items are positioned.\n",
    "\n",
    "\n",
    "> **flag**- wx.ALL - This parameter can be used to set a number of flags which can be combined using the binary OR operator |. Two main behaviours are defined using these flags. One is the border around a window: the border parameter determines the border width whereas the flags given here determine which side(s) of the item that the border will be added. The other flags determine how the sizer item behaves when the space allotted to the sizer changes, and is somewhat dependent on the specific kind of sizer used.\n",
    "\n",
    "\n",
    "> **border**- =5 - Determines the border width, if the flag parameter is set to include any border flag.\n",
    "\n",
    "more:https://wxpython.org/docs/api/wx.Sizer-class.html"
   ]
  },
  {
   "cell_type": "code",
   "execution_count": null,
   "metadata": {
    "collapsed": true
   },
   "outputs": [],
   "source": []
  }
 ],
 "metadata": {
  "kernelspec": {
   "display_name": "Python 3",
   "language": "python",
   "name": "python3"
  },
  "language_info": {
   "codemirror_mode": {
    "name": "ipython",
    "version": 3
   },
   "file_extension": ".py",
   "mimetype": "text/x-python",
   "name": "python",
   "nbconvert_exporter": "python",
   "pygments_lexer": "ipython3",
   "version": "3.6.1"
  }
 },
 "nbformat": 4,
 "nbformat_minor": 2
}
